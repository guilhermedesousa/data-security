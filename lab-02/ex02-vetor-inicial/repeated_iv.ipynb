{
 "cells": [
  {
   "cell_type": "code",
   "execution_count": 20,
   "metadata": {},
   "outputs": [],
   "source": [
    "# XOR two bytearrays\n",
    "def xor(first, second):\n",
    "   return bytearray(x^y for x,y in zip(first, second))"
   ]
  },
  {
   "cell_type": "code",
   "execution_count": 21,
   "metadata": {},
   "outputs": [],
   "source": [
    "def knonw_plaintext_atack(p1, c1, c2):\n",
    "    p1_b = bytes(p1, 'utf-8')\n",
    "    c1_b = bytearray.fromhex(c1)\n",
    "    c2_b = bytearray.fromhex(c2)\n",
    "\n",
    "    p2_b = xor(xor(p1_b, c1_b), c2_b)\n",
    "    p2_hex = p2_b.hex()\n",
    "    p2 = p2_b.decode('utf-8')\n",
    "\n",
    "    print(\"Original text (hex): \", p2_hex)\n",
    "    print(\"Original text (ASCII): \", p2)"
   ]
  },
  {
   "cell_type": "code",
   "execution_count": 22,
   "metadata": {},
   "outputs": [
    {
     "name": "stdout",
     "output_type": "stream",
     "text": [
      "Original text (hex):  4f726465723a204c61756e63682061206d697373696c6521\n",
      "Original text (ASCII):  Order: Launch a missile!\n"
     ]
    }
   ],
   "source": [
    "# example 1\n",
    "p1 = \"This is a known message!\"\n",
    "c1 = \"a469b1c502c1cab966965e50425438e1bb1b5f9037a4c159\"\n",
    "c2 = \"bf73bcd3509299d566c35b5d450337e1bb175f903fafc159\"\n",
    "knonw_plaintext_atack(p1, c1, c2)"
   ]
  }
 ],
 "metadata": {
  "kernelspec": {
   "display_name": "Python 3",
   "language": "python",
   "name": "python3"
  },
  "language_info": {
   "codemirror_mode": {
    "name": "ipython",
    "version": 3
   },
   "file_extension": ".py",
   "mimetype": "text/x-python",
   "name": "python",
   "nbconvert_exporter": "python",
   "pygments_lexer": "ipython3",
   "version": "3.10.12"
  }
 },
 "nbformat": 4,
 "nbformat_minor": 2
}
